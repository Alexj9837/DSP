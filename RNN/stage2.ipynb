{
 "cells": [
  {
   "cell_type": "code",
   "execution_count": 2,
   "metadata": {},
   "outputs": [],
   "source": [
    "import numpy as np\n",
    "import pandas as pd\n",
    "import keras\n",
    "from keras.models import load_model\n",
    "import json\n",
    "from keras.preprocessing.text import Tokenizer\n",
    "\n",
    "from keras.utils import pad_sequences\n",
    "from sklearn.model_selection import train_test_split\n"
   ]
  },
  {
   "cell_type": "code",
   "execution_count": 3,
   "metadata": {},
   "outputs": [],
   "source": [
    "\n",
    "# Load the model from the .h5 file\n",
    "model = load_model('senti_model_main.h5')"
   ]
  },
  {
   "cell_type": "code",
   "execution_count": 4,
   "metadata": {},
   "outputs": [
    {
     "data": {
      "text/plain": [
       "['Tesla stock gets a downgrade: ‘Growing up can be hard to do’',\n",
       " \"Microsoft Hoped AI Would Be the Key to Wresting Search Market Share From Google. Here's How That's Going.\",\n",
       " 'Microsoft Is Flexing Its Muscles in Cloud and AI, and Investors Are Thrilled']"
      ]
     },
     "execution_count": 4,
     "metadata": {},
     "output_type": "execute_result"
    }
   ],
   "source": [
    "\n",
    "with open('api_output.json', 'r') as json_file:\n",
    "            data = json.load(json_file)\n",
    "# Extract the 'users' data\n",
    "users_data = data[\"data\"]\n",
    "\n",
    "titles = [user[\"title\"] for user in users_data]\n",
    "\n",
    "# Print the extracted data\n",
    "#print(users_data)\n",
    "\n",
    "titles\n",
    "\n"
   ]
  },
  {
   "cell_type": "code",
   "execution_count": 5,
   "metadata": {},
   "outputs": [],
   "source": [
    "\n",
    "\n",
    "def get_sequences(title):\n",
    "\n",
    "    tokenizer = Tokenizer()\n",
    "    tokenizer.fit_on_texts([title])\n",
    "    sequences = tokenizer.texts_to_sequences([title])\n",
    "    maxlen = 71 \n",
    "    padded_sequences = pad_sequences(sequences, maxlen=maxlen)\n",
    "    \n",
    "    return padded_sequences\n",
    "\n"
   ]
  },
  {
   "cell_type": "code",
   "execution_count": 6,
   "metadata": {},
   "outputs": [
    {
     "name": "stdout",
     "output_type": "stream",
     "text": [
      "1/1 [==============================] - 0s 376ms/step\n",
      "Title: Tesla stock gets a downgrade: ‘Growing up can be hard to do’, Predicted class: [[0.01010101 0.8213821  0.16851683]]\n",
      "Title: Tesla stock gets a downgrade: ‘Growing up can be hard to do’, Predicted class: 1\n",
      "1/1 [==============================] - 0s 19ms/step\n",
      "Title: Microsoft Hoped AI Would Be the Key to Wresting Search Market Share From Google. Here's How That's Going., Predicted class: [[0.01004669 0.86069083 0.12926239]]\n",
      "Title: Microsoft Hoped AI Would Be the Key to Wresting Search Market Share From Google. Here's How That's Going., Predicted class: 1\n",
      "1/1 [==============================] - 0s 19ms/step\n",
      "Title: Microsoft Is Flexing Its Muscles in Cloud and AI, and Investors Are Thrilled, Predicted class: [[0.01015338 0.8238001  0.16604656]]\n",
      "Title: Microsoft Is Flexing Its Muscles in Cloud and AI, and Investors Are Thrilled, Predicted class: 1\n"
     ]
    }
   ],
   "source": [
    "for title in titles:\n",
    "    preprocessed_title = get_sequences(title)\n",
    "    prediction = model.predict(preprocessed_title)\n",
    "    print(f\"Title: {title}, Predicted class: {prediction}\")\n",
    "    print(f\"Title: {title}, Predicted class: {np.argmax(prediction)}\")\n"
   ]
  },
  {
   "cell_type": "code",
   "execution_count": 7,
   "metadata": {},
   "outputs": [
    {
     "name": "stdout",
     "output_type": "stream",
     "text": [
      "1/1 [==============================] - 0s 20ms/step\n",
      "Title: Tesla stock gets a downgrade: ‘Growing up can be hard to do’, Predicted class: 1\n",
      "1/1 [==============================] - 0s 18ms/step\n",
      "Title: Microsoft Hoped AI Would Be the Key to Wresting Search Market Share From Google. Here's How That's Going., Predicted class: 1\n",
      "1/1 [==============================] - 0s 19ms/step\n",
      "Title: Microsoft Is Flexing Its Muscles in Cloud and AI, and Investors Are Thrilled, Predicted class: 1\n"
     ]
    }
   ],
   "source": [
    "for title in titles:\n",
    "    preprocessed_title = get_sequences(title)\n",
    "    prediction = model.predict(preprocessed_title)\n",
    "    predicted_class = np.argmax(prediction)\n",
    "    print(f\"Title: {title}, Predicted class: {predicted_class}\")"
   ]
  }
 ],
 "metadata": {
  "kernelspec": {
   "display_name": ".venv",
   "language": "python",
   "name": "python3"
  },
  "language_info": {
   "codemirror_mode": {
    "name": "ipython",
    "version": 3
   },
   "file_extension": ".py",
   "mimetype": "text/x-python",
   "name": "python",
   "nbconvert_exporter": "python",
   "pygments_lexer": "ipython3",
   "version": "3.9.6"
  },
  "orig_nbformat": 4
 },
 "nbformat": 4,
 "nbformat_minor": 2
}
